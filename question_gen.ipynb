{
 "cells": [
  {
   "cell_type": "code",
   "execution_count": 1,
   "metadata": {},
   "outputs": [],
   "source": [
    "import random\n",
    "import pandas as pd\n",
    "import numpy as np"
   ]
  },
  {
   "cell_type": "code",
   "execution_count": 2,
   "metadata": {},
   "outputs": [],
   "source": [
    "questions = [\n",
    "    \"Which school had the [size] number absences in [month]?\",\n",
    "    \"In which month did [school] have the [size] number absences?\",\n",
    "]\n",
    "\n",
    "months = [\n",
    "    \"September\",\n",
    "    \"October\",\n",
    "    \"November\",\n",
    "    \"December\",\n",
    "    \"Januray\",\n",
    "    \"February\",\n",
    "    \"March\",\n",
    "    \"April\",\n",
    "    \"June\",\n",
    "    \"July\",\n",
    "]"
   ]
  },
  {
   "cell_type": "code",
   "execution_count": 3,
   "metadata": {},
   "outputs": [],
   "source": [
    "example_df = pd.DataFrame(data=np.random.randint(20, 101, size=(10, 10)), index=[f\"School {i}\" for i in range(1, 11)], columns=months)"
   ]
  },
  {
   "cell_type": "code",
   "execution_count": 4,
   "metadata": {},
   "outputs": [
    {
     "data": {
      "text/html": [
       "<div>\n",
       "<style scoped>\n",
       "    .dataframe tbody tr th:only-of-type {\n",
       "        vertical-align: middle;\n",
       "    }\n",
       "\n",
       "    .dataframe tbody tr th {\n",
       "        vertical-align: top;\n",
       "    }\n",
       "\n",
       "    .dataframe thead th {\n",
       "        text-align: right;\n",
       "    }\n",
       "</style>\n",
       "<table border=\"1\" class=\"dataframe\">\n",
       "  <thead>\n",
       "    <tr style=\"text-align: right;\">\n",
       "      <th></th>\n",
       "      <th>September</th>\n",
       "      <th>October</th>\n",
       "      <th>November</th>\n",
       "      <th>December</th>\n",
       "      <th>Januray</th>\n",
       "      <th>February</th>\n",
       "      <th>March</th>\n",
       "      <th>April</th>\n",
       "      <th>June</th>\n",
       "      <th>July</th>\n",
       "    </tr>\n",
       "  </thead>\n",
       "  <tbody>\n",
       "    <tr>\n",
       "      <th>School 1</th>\n",
       "      <td>56</td>\n",
       "      <td>98</td>\n",
       "      <td>28</td>\n",
       "      <td>78</td>\n",
       "      <td>65</td>\n",
       "      <td>74</td>\n",
       "      <td>40</td>\n",
       "      <td>99</td>\n",
       "      <td>45</td>\n",
       "      <td>32</td>\n",
       "    </tr>\n",
       "    <tr>\n",
       "      <th>School 2</th>\n",
       "      <td>51</td>\n",
       "      <td>43</td>\n",
       "      <td>59</td>\n",
       "      <td>78</td>\n",
       "      <td>50</td>\n",
       "      <td>55</td>\n",
       "      <td>57</td>\n",
       "      <td>78</td>\n",
       "      <td>20</td>\n",
       "      <td>60</td>\n",
       "    </tr>\n",
       "    <tr>\n",
       "      <th>School 3</th>\n",
       "      <td>56</td>\n",
       "      <td>21</td>\n",
       "      <td>99</td>\n",
       "      <td>93</td>\n",
       "      <td>76</td>\n",
       "      <td>79</td>\n",
       "      <td>20</td>\n",
       "      <td>29</td>\n",
       "      <td>26</td>\n",
       "      <td>85</td>\n",
       "    </tr>\n",
       "    <tr>\n",
       "      <th>School 4</th>\n",
       "      <td>28</td>\n",
       "      <td>53</td>\n",
       "      <td>96</td>\n",
       "      <td>95</td>\n",
       "      <td>79</td>\n",
       "      <td>76</td>\n",
       "      <td>92</td>\n",
       "      <td>68</td>\n",
       "      <td>28</td>\n",
       "      <td>56</td>\n",
       "    </tr>\n",
       "    <tr>\n",
       "      <th>School 5</th>\n",
       "      <td>35</td>\n",
       "      <td>92</td>\n",
       "      <td>84</td>\n",
       "      <td>24</td>\n",
       "      <td>22</td>\n",
       "      <td>62</td>\n",
       "      <td>34</td>\n",
       "      <td>92</td>\n",
       "      <td>61</td>\n",
       "      <td>90</td>\n",
       "    </tr>\n",
       "    <tr>\n",
       "      <th>School 6</th>\n",
       "      <td>38</td>\n",
       "      <td>52</td>\n",
       "      <td>24</td>\n",
       "      <td>39</td>\n",
       "      <td>82</td>\n",
       "      <td>31</td>\n",
       "      <td>40</td>\n",
       "      <td>33</td>\n",
       "      <td>59</td>\n",
       "      <td>89</td>\n",
       "    </tr>\n",
       "    <tr>\n",
       "      <th>School 7</th>\n",
       "      <td>63</td>\n",
       "      <td>20</td>\n",
       "      <td>90</td>\n",
       "      <td>65</td>\n",
       "      <td>95</td>\n",
       "      <td>56</td>\n",
       "      <td>75</td>\n",
       "      <td>71</td>\n",
       "      <td>48</td>\n",
       "      <td>85</td>\n",
       "    </tr>\n",
       "    <tr>\n",
       "      <th>School 8</th>\n",
       "      <td>36</td>\n",
       "      <td>88</td>\n",
       "      <td>62</td>\n",
       "      <td>94</td>\n",
       "      <td>39</td>\n",
       "      <td>84</td>\n",
       "      <td>90</td>\n",
       "      <td>99</td>\n",
       "      <td>70</td>\n",
       "      <td>59</td>\n",
       "    </tr>\n",
       "    <tr>\n",
       "      <th>School 9</th>\n",
       "      <td>82</td>\n",
       "      <td>80</td>\n",
       "      <td>42</td>\n",
       "      <td>96</td>\n",
       "      <td>100</td>\n",
       "      <td>93</td>\n",
       "      <td>43</td>\n",
       "      <td>54</td>\n",
       "      <td>30</td>\n",
       "      <td>23</td>\n",
       "    </tr>\n",
       "    <tr>\n",
       "      <th>School 10</th>\n",
       "      <td>68</td>\n",
       "      <td>48</td>\n",
       "      <td>77</td>\n",
       "      <td>42</td>\n",
       "      <td>96</td>\n",
       "      <td>98</td>\n",
       "      <td>73</td>\n",
       "      <td>54</td>\n",
       "      <td>80</td>\n",
       "      <td>20</td>\n",
       "    </tr>\n",
       "  </tbody>\n",
       "</table>\n",
       "</div>"
      ],
      "text/plain": [
       "           September  October  November  December  Januray  February  March  \\\n",
       "School 1          56       98        28        78       65        74     40   \n",
       "School 2          51       43        59        78       50        55     57   \n",
       "School 3          56       21        99        93       76        79     20   \n",
       "School 4          28       53        96        95       79        76     92   \n",
       "School 5          35       92        84        24       22        62     34   \n",
       "School 6          38       52        24        39       82        31     40   \n",
       "School 7          63       20        90        65       95        56     75   \n",
       "School 8          36       88        62        94       39        84     90   \n",
       "School 9          82       80        42        96      100        93     43   \n",
       "School 10         68       48        77        42       96        98     73   \n",
       "\n",
       "           April  June  July  \n",
       "School 1      99    45    32  \n",
       "School 2      78    20    60  \n",
       "School 3      29    26    85  \n",
       "School 4      68    28    56  \n",
       "School 5      92    61    90  \n",
       "School 6      33    59    89  \n",
       "School 7      71    48    85  \n",
       "School 8      99    70    59  \n",
       "School 9      54    30    23  \n",
       "School 10     54    80    20  "
      ]
     },
     "execution_count": 4,
     "metadata": {},
     "output_type": "execute_result"
    }
   ],
   "source": [
    "example_df"
   ]
  },
  {
   "cell_type": "code",
   "execution_count": 5,
   "metadata": {},
   "outputs": [
    {
     "data": {
      "text/plain": [
       "'School 9'"
      ]
     },
     "execution_count": 5,
     "metadata": {},
     "output_type": "execute_result"
    }
   ],
   "source": [
    "example_df[\"Januray\"].idxmax()"
   ]
  },
  {
   "cell_type": "code",
   "execution_count": 6,
   "metadata": {},
   "outputs": [
    {
     "data": {
      "text/plain": [
       "'December'"
      ]
     },
     "execution_count": 6,
     "metadata": {},
     "output_type": "execute_result"
    }
   ],
   "source": [
    "example_df.loc[\"School 2\"].idxmax()"
   ]
  },
  {
   "cell_type": "code",
   "execution_count": 7,
   "metadata": {},
   "outputs": [],
   "source": [
    "def generate_question_and_answers(data: pd.DataFrame) -> tuple[str, list, int]:\n",
    "    # Select highest or lowest\n",
    "    hl = \"highest\" if random.randint(0, 1) else \"lowest\"\n",
    "\n",
    "    # Update the question with the relevant word\n",
    "    question = random.choice(questions).replace(\"[size]\", hl)\n",
    "\n",
    "    # Check if this is a month question or school question\n",
    "    if \"[month]\" in question:\n",
    "        # Select a random month from list of school months\n",
    "        month = random.choice(months)\n",
    "\n",
    "        # Insert that month into the question\n",
    "        question = question.replace(\"[month]\", month)\n",
    "\n",
    "        # Find the correct answer to the question\n",
    "        correct_answer = data[month].idxmax() if hl == \"highest\" else data[month].idxmin()\n",
    "\n",
    "        # Select three random incorrect answers\n",
    "        answers = random.sample([school for school in data.index if school != correct_answer], 3)\n",
    "    else:\n",
    "        # Select a random school\n",
    "        school = random.randint(1, 10)\n",
    "\n",
    "        # Update the question with that school\n",
    "        question = question.replace(\"[school]\", f\"School {school}\")\n",
    "\n",
    "        # Find the correct answer to the question\n",
    "        correct_answer = data.iloc[school - 1].idxmax() if hl == \"highest\" else data.iloc[school - 1].idxmin()\n",
    "\n",
    "        # Select three random incorrect answers\n",
    "        answers = random.sample([month for month in months if month != correct_answer], 3)\n",
    "    \n",
    "    # Append the correct answer into our list of answers at a random index\n",
    "    answers.append(correct_answer)\n",
    "    random.shuffle(answers)\n",
    "\n",
    "    # Return the question, the list of potential answers, and the index of the correct answer\n",
    "    return question, answers, answers.index(correct_answer)"
   ]
  },
  {
   "cell_type": "code",
   "execution_count": 22,
   "metadata": {},
   "outputs": [
    {
     "name": "stdout",
     "output_type": "stream",
     "text": [
      "Which school had the lowest number absences in February? ['School 5', 'School 2', 'School 8', 'School 6'] 3\n",
      "School 6\n"
     ]
    }
   ],
   "source": [
    "q, a, c = generate_question_and_answers(example_df)\n",
    "\n",
    "print(q, a, c)\n",
    "print(a[c])"
   ]
  },
  {
   "cell_type": "code",
   "execution_count": null,
   "metadata": {},
   "outputs": [],
   "source": []
  },
  {
   "cell_type": "code",
   "execution_count": null,
   "metadata": {},
   "outputs": [],
   "source": []
  }
 ],
 "metadata": {
  "kernelspec": {
   "display_name": "Python 3",
   "language": "python",
   "name": "python3"
  },
  "language_info": {
   "codemirror_mode": {
    "name": "ipython",
    "version": 3
   },
   "file_extension": ".py",
   "mimetype": "text/x-python",
   "name": "python",
   "nbconvert_exporter": "python",
   "pygments_lexer": "ipython3",
   "version": "3.11.2"
  }
 },
 "nbformat": 4,
 "nbformat_minor": 2
}
