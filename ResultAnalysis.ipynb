{
 "cells": [
  {
   "cell_type": "code",
   "execution_count": 1,
   "id": "c54778ef",
   "metadata": {},
   "outputs": [],
   "source": [
    "# Libraries\n",
    "import numpy as np\n",
    "import pandas as pd\n",
    "from scipy import stats\n",
    "import matplotlib.pyplot as plt\n",
    "plt.rcParams['font.family'] = 'Times New Roman'"
   ]
  },
  {
   "cell_type": "markdown",
   "id": "f3e5fa37",
   "metadata": {},
   "source": [
    "# Data preparation"
   ]
  },
  {
   "cell_type": "code",
   "execution_count": 2,
   "id": "45eaab84",
   "metadata": {},
   "outputs": [
    {
     "data": {
      "text/html": [
       "<div>\n",
       "<style scoped>\n",
       "    .dataframe tbody tr th:only-of-type {\n",
       "        vertical-align: middle;\n",
       "    }\n",
       "\n",
       "    .dataframe tbody tr th {\n",
       "        vertical-align: top;\n",
       "    }\n",
       "\n",
       "    .dataframe thead th {\n",
       "        text-align: right;\n",
       "    }\n",
       "</style>\n",
       "<table border=\"1\" class=\"dataframe\">\n",
       "  <thead>\n",
       "    <tr style=\"text-align: right;\">\n",
       "      <th></th>\n",
       "      <th>participant_ID</th>\n",
       "      <th>question_number</th>\n",
       "      <th>vis_type</th>\n",
       "      <th>correct_answer</th>\n",
       "      <th>time_(s)</th>\n",
       "    </tr>\n",
       "  </thead>\n",
       "  <tbody>\n",
       "    <tr>\n",
       "      <th>0</th>\n",
       "      <td>1</td>\n",
       "      <td>1</td>\n",
       "      <td>heatmap</td>\n",
       "      <td>1</td>\n",
       "      <td>29.60</td>\n",
       "    </tr>\n",
       "    <tr>\n",
       "      <th>1</th>\n",
       "      <td>1</td>\n",
       "      <td>2</td>\n",
       "      <td>scatterplot</td>\n",
       "      <td>1</td>\n",
       "      <td>18.13</td>\n",
       "    </tr>\n",
       "    <tr>\n",
       "      <th>2</th>\n",
       "      <td>1</td>\n",
       "      <td>3</td>\n",
       "      <td>heatmap</td>\n",
       "      <td>1</td>\n",
       "      <td>38.22</td>\n",
       "    </tr>\n",
       "    <tr>\n",
       "      <th>3</th>\n",
       "      <td>1</td>\n",
       "      <td>4</td>\n",
       "      <td>scatterplot</td>\n",
       "      <td>1</td>\n",
       "      <td>16.75</td>\n",
       "    </tr>\n",
       "    <tr>\n",
       "      <th>4</th>\n",
       "      <td>1</td>\n",
       "      <td>5</td>\n",
       "      <td>heatmap</td>\n",
       "      <td>1</td>\n",
       "      <td>10.94</td>\n",
       "    </tr>\n",
       "  </tbody>\n",
       "</table>\n",
       "</div>"
      ],
      "text/plain": [
       "   participant_ID  question_number     vis_type  correct_answer  time_(s)\n",
       "0               1                1      heatmap               1     29.60\n",
       "1               1                2  scatterplot               1     18.13\n",
       "2               1                3      heatmap               1     38.22\n",
       "3               1                4  scatterplot               1     16.75\n",
       "4               1                5      heatmap               1     10.94"
      ]
     },
     "execution_count": 2,
     "metadata": {},
     "output_type": "execute_result"
    }
   ],
   "source": [
    "df= pd.read_csv(\"results_experiment.csv\")\n",
    "df.head()"
   ]
  },
  {
   "cell_type": "code",
   "execution_count": 3,
   "id": "13eddc6a",
   "metadata": {},
   "outputs": [
    {
     "data": {
      "text/html": [
       "<div>\n",
       "<style scoped>\n",
       "    .dataframe tbody tr th:only-of-type {\n",
       "        vertical-align: middle;\n",
       "    }\n",
       "\n",
       "    .dataframe tbody tr th {\n",
       "        vertical-align: top;\n",
       "    }\n",
       "\n",
       "    .dataframe thead th {\n",
       "        text-align: right;\n",
       "    }\n",
       "</style>\n",
       "<table border=\"1\" class=\"dataframe\">\n",
       "  <thead>\n",
       "    <tr style=\"text-align: right;\">\n",
       "      <th></th>\n",
       "      <th>participant_ID</th>\n",
       "      <th>vis_type</th>\n",
       "      <th>correct_answers</th>\n",
       "      <th>total_time</th>\n",
       "    </tr>\n",
       "  </thead>\n",
       "  <tbody>\n",
       "    <tr>\n",
       "      <th>0</th>\n",
       "      <td>1</td>\n",
       "      <td>heatmap</td>\n",
       "      <td>10</td>\n",
       "      <td>166.40</td>\n",
       "    </tr>\n",
       "    <tr>\n",
       "      <th>1</th>\n",
       "      <td>1</td>\n",
       "      <td>scatterplot</td>\n",
       "      <td>8</td>\n",
       "      <td>275.63</td>\n",
       "    </tr>\n",
       "    <tr>\n",
       "      <th>2</th>\n",
       "      <td>2</td>\n",
       "      <td>heatmap</td>\n",
       "      <td>10</td>\n",
       "      <td>93.94</td>\n",
       "    </tr>\n",
       "    <tr>\n",
       "      <th>3</th>\n",
       "      <td>2</td>\n",
       "      <td>scatterplot</td>\n",
       "      <td>8</td>\n",
       "      <td>103.60</td>\n",
       "    </tr>\n",
       "    <tr>\n",
       "      <th>4</th>\n",
       "      <td>3</td>\n",
       "      <td>heatmap</td>\n",
       "      <td>9</td>\n",
       "      <td>87.99</td>\n",
       "    </tr>\n",
       "  </tbody>\n",
       "</table>\n",
       "</div>"
      ],
      "text/plain": [
       "   participant_ID     vis_type  correct_answers  total_time\n",
       "0               1      heatmap               10      166.40\n",
       "1               1  scatterplot                8      275.63\n",
       "2               2      heatmap               10       93.94\n",
       "3               2  scatterplot                8      103.60\n",
       "4               3      heatmap                9       87.99"
      ]
     },
     "execution_count": 3,
     "metadata": {},
     "output_type": "execute_result"
    }
   ],
   "source": [
    "df1 = df.groupby(['participant_ID', 'vis_type']).agg(\n",
    "    correct_answers=('correct_answer', 'sum'),\n",
    "    total_time=('time_(s)', 'sum')\n",
    ").reset_index()\n",
    "df1.head()"
   ]
  },
  {
   "cell_type": "code",
   "execution_count": 4,
   "id": "a6d05e60",
   "metadata": {},
   "outputs": [
    {
     "data": {
      "text/html": [
       "<div>\n",
       "<style scoped>\n",
       "    .dataframe tbody tr th:only-of-type {\n",
       "        vertical-align: middle;\n",
       "    }\n",
       "\n",
       "    .dataframe tbody tr th {\n",
       "        vertical-align: top;\n",
       "    }\n",
       "\n",
       "    .dataframe thead th {\n",
       "        text-align: right;\n",
       "    }\n",
       "</style>\n",
       "<table border=\"1\" class=\"dataframe\">\n",
       "  <thead>\n",
       "    <tr style=\"text-align: right;\">\n",
       "      <th></th>\n",
       "      <th>participant_ID</th>\n",
       "      <th>correct_HM</th>\n",
       "      <th>correct_SP</th>\n",
       "      <th>total_time_HM</th>\n",
       "      <th>total_time_SP</th>\n",
       "      <th>%correct_HM</th>\n",
       "      <th>%correct_SP</th>\n",
       "      <th>average_time_HM</th>\n",
       "      <th>average_time_SP</th>\n",
       "    </tr>\n",
       "  </thead>\n",
       "  <tbody>\n",
       "    <tr>\n",
       "      <th>0</th>\n",
       "      <td>1</td>\n",
       "      <td>10</td>\n",
       "      <td>8</td>\n",
       "      <td>166.40</td>\n",
       "      <td>275.63</td>\n",
       "      <td>100</td>\n",
       "      <td>80</td>\n",
       "      <td>16.640</td>\n",
       "      <td>27.563</td>\n",
       "    </tr>\n",
       "    <tr>\n",
       "      <th>1</th>\n",
       "      <td>2</td>\n",
       "      <td>10</td>\n",
       "      <td>8</td>\n",
       "      <td>93.94</td>\n",
       "      <td>103.60</td>\n",
       "      <td>100</td>\n",
       "      <td>80</td>\n",
       "      <td>9.394</td>\n",
       "      <td>10.360</td>\n",
       "    </tr>\n",
       "    <tr>\n",
       "      <th>2</th>\n",
       "      <td>3</td>\n",
       "      <td>9</td>\n",
       "      <td>9</td>\n",
       "      <td>87.99</td>\n",
       "      <td>85.78</td>\n",
       "      <td>90</td>\n",
       "      <td>90</td>\n",
       "      <td>8.799</td>\n",
       "      <td>8.578</td>\n",
       "    </tr>\n",
       "    <tr>\n",
       "      <th>3</th>\n",
       "      <td>4</td>\n",
       "      <td>10</td>\n",
       "      <td>9</td>\n",
       "      <td>164.61</td>\n",
       "      <td>352.66</td>\n",
       "      <td>100</td>\n",
       "      <td>90</td>\n",
       "      <td>16.461</td>\n",
       "      <td>35.266</td>\n",
       "    </tr>\n",
       "    <tr>\n",
       "      <th>4</th>\n",
       "      <td>5</td>\n",
       "      <td>10</td>\n",
       "      <td>8</td>\n",
       "      <td>152.96</td>\n",
       "      <td>255.55</td>\n",
       "      <td>100</td>\n",
       "      <td>80</td>\n",
       "      <td>15.296</td>\n",
       "      <td>25.555</td>\n",
       "    </tr>\n",
       "    <tr>\n",
       "      <th>5</th>\n",
       "      <td>6</td>\n",
       "      <td>10</td>\n",
       "      <td>9</td>\n",
       "      <td>81.88</td>\n",
       "      <td>169.47</td>\n",
       "      <td>100</td>\n",
       "      <td>90</td>\n",
       "      <td>8.188</td>\n",
       "      <td>16.947</td>\n",
       "    </tr>\n",
       "    <tr>\n",
       "      <th>6</th>\n",
       "      <td>7</td>\n",
       "      <td>10</td>\n",
       "      <td>10</td>\n",
       "      <td>164.89</td>\n",
       "      <td>188.85</td>\n",
       "      <td>100</td>\n",
       "      <td>100</td>\n",
       "      <td>16.489</td>\n",
       "      <td>18.885</td>\n",
       "    </tr>\n",
       "    <tr>\n",
       "      <th>7</th>\n",
       "      <td>8</td>\n",
       "      <td>10</td>\n",
       "      <td>10</td>\n",
       "      <td>94.93</td>\n",
       "      <td>147.16</td>\n",
       "      <td>100</td>\n",
       "      <td>100</td>\n",
       "      <td>9.493</td>\n",
       "      <td>14.716</td>\n",
       "    </tr>\n",
       "    <tr>\n",
       "      <th>8</th>\n",
       "      <td>9</td>\n",
       "      <td>8</td>\n",
       "      <td>9</td>\n",
       "      <td>145.26</td>\n",
       "      <td>321.43</td>\n",
       "      <td>80</td>\n",
       "      <td>90</td>\n",
       "      <td>14.526</td>\n",
       "      <td>32.143</td>\n",
       "    </tr>\n",
       "    <tr>\n",
       "      <th>9</th>\n",
       "      <td>10</td>\n",
       "      <td>9</td>\n",
       "      <td>10</td>\n",
       "      <td>110.21</td>\n",
       "      <td>151.85</td>\n",
       "      <td>90</td>\n",
       "      <td>100</td>\n",
       "      <td>11.021</td>\n",
       "      <td>15.185</td>\n",
       "    </tr>\n",
       "  </tbody>\n",
       "</table>\n",
       "</div>"
      ],
      "text/plain": [
       "   participant_ID  correct_HM  correct_SP  total_time_HM  total_time_SP  \\\n",
       "0               1          10           8         166.40         275.63   \n",
       "1               2          10           8          93.94         103.60   \n",
       "2               3           9           9          87.99          85.78   \n",
       "3               4          10           9         164.61         352.66   \n",
       "4               5          10           8         152.96         255.55   \n",
       "5               6          10           9          81.88         169.47   \n",
       "6               7          10          10         164.89         188.85   \n",
       "7               8          10          10          94.93         147.16   \n",
       "8               9           8           9         145.26         321.43   \n",
       "9              10           9          10         110.21         151.85   \n",
       "\n",
       "   %correct_HM  %correct_SP  average_time_HM  average_time_SP  \n",
       "0          100           80           16.640           27.563  \n",
       "1          100           80            9.394           10.360  \n",
       "2           90           90            8.799            8.578  \n",
       "3          100           90           16.461           35.266  \n",
       "4          100           80           15.296           25.555  \n",
       "5          100           90            8.188           16.947  \n",
       "6          100          100           16.489           18.885  \n",
       "7          100          100            9.493           14.716  \n",
       "8           80           90           14.526           32.143  \n",
       "9           90          100           11.021           15.185  "
      ]
     },
     "execution_count": 4,
     "metadata": {},
     "output_type": "execute_result"
    }
   ],
   "source": [
    "df2 = df1.pivot(index='participant_ID', columns='vis_type', values=['correct_answers', 'total_time'])\n",
    "\n",
    "df2.columns = [f\"{col[0]} {col[1]}\" for col in df2.columns]\n",
    "\n",
    "df2.reset_index(inplace=True)\n",
    "df2.rename(columns={\n",
    "    \"correct_answers heatmap\":\"correct_HM\",\n",
    "     \"correct_answers scatterplot\":\"correct_SP\", \n",
    "     \"total_time heatmap\":\"total_time_HM\",\n",
    "    \"total_time scatterplot\":\"total_time_SP\"},\n",
    "    inplace=True)\n",
    "\n",
    "df2['correct_HM']=df2['correct_HM'].astype(int)\n",
    "df2['correct_SP']=df2['correct_SP'].astype(int)\n",
    "df2['%correct_HM']=df2['correct_HM']*10\n",
    "df2['%correct_SP']=df2['correct_SP']*10\n",
    "df2['average_time_HM']=df2['total_time_HM']/10\n",
    "df2['average_time_SP']=df2['total_time_SP']/10\n",
    "\n",
    "df2"
   ]
  },
  {
   "cell_type": "markdown",
   "id": "c2bb9fd6",
   "metadata": {},
   "source": [
    "# Histograms correct answers"
   ]
  },
  {
   "cell_type": "code",
   "execution_count": 5,
   "id": "51ee9e23",
   "metadata": {},
   "outputs": [
    {
     "data": {
      "image/png": "[encoded data removed]",
      "text/plain": [
       "<Figure size 700x500 with 1 Axes>"
      ]
     },
     "metadata": {},
     "output_type": "display_data"
    }
   ],
   "source": [
    "plt.figure(figsize=(7,5))\n",
    "plt.hist(df2['correct_HM'], bins=[7.5,8.5,9.5,10.5], color='lightgray', edgecolor='black')\n",
    "\n",
    "plt.xticks([8, 9, 10], ['8', '9', '10'])\n",
    "plt.title('Frequency of Correct Answers in Heatmap Visualisation')\n",
    "plt.xlabel('Number of correct answers')\n",
    "plt.ylabel('Frequency')\n",
    "\n",
    "plt.show()"
   ]
  },
  {
   "cell_type": "code",
   "execution_count": 6,
   "id": "c129a896",
   "metadata": {},
   "outputs": [
    {
     "data": {
      "image/png": "[encoded data removed]",
      "text/plain": [
       "<Figure size 700x500 with 1 Axes>"
      ]
     },
     "metadata": {},
     "output_type": "display_data"
    }
   ],
   "source": [
    "plt.figure(figsize=(7,5))\n",
    "plt.hist(df2['correct_SP'], bins=[7.5,8.5,9.5,10.5], color='lightgray', edgecolor='black')\n",
    "\n",
    "plt.xticks([8, 9, 10], ['8', '9', '10'])\n",
    "plt.title('Frequency of Correct Answers in Scatterplot Visualisation')\n",
    "plt.xlabel('Number of correct answers')\n",
    "plt.ylabel('Frequency')\n",
    "\n",
    "\n",
    "plt.show()"
   ]
  },
  {
   "cell_type": "markdown",
   "id": "652737f2",
   "metadata": {},
   "source": [
    "# T-test (two tailed): Average Correct Answer Percentage\n",
    "\n",
    "Two tailed T-test is the one used where the hypothesis are:\n",
    "\n",
    "- $H_0$: There is no significant difference between the two groups: heatmap visualisation and scatterplot visualisation.\n",
    "- $H_a$: There is a significant difference between the two visualisations.\n",
    "    \n",
    "If the alternative hypothesis is accepted, there is no way to figure it out at which direction is the difference. "
   ]
  },
  {
   "cell_type": "code",
   "execution_count": 7,
   "id": "c472797e",
   "metadata": {},
   "outputs": [
    {
     "name": "stdout",
     "output_type": "stream",
     "text": [
      "T-statistic: 1.616447718240974\n",
      "P-value: 0.14045297087829434\n",
      "Null hypothesis accepted: There is no significant difference between the Average Correct Answer Percentage of heatmap and scatterplot visualisation.\n"
     ]
    }
   ],
   "source": [
    "# Perform the paired samples t-test\n",
    "t_stat_avg, p_value_avg = stats.ttest_rel(df2['%correct_HM'], df2['%correct_SP'])\n",
    "\n",
    "# Print the results\n",
    "print(f\"T-statistic: {t_stat_avg}\")\n",
    "print(f\"P-value: {p_value_avg}\")\n",
    "\n",
    "# Interpretation\n",
    "alpha = 0.05  # significance level\n",
    "if p_value_avg < alpha:\n",
    "    print(\"Null hypothesis rejected: There is a significant difference between the Average Correct Answer Percentage of heatmap and scatterplot visualisation.\")\n",
    "else:\n",
    "    print(\"Null hypothesis accepted: There is no significant difference between the Average Correct Answer Percentage of heatmap and scatterplot visualisation.\")"
   ]
  },
  {
   "cell_type": "markdown",
   "id": "9c492d1e",
   "metadata": {},
   "source": [
    "# T-test (one-tailed): Average Correct Answer Percentage\n",
    "\n",
    "One tailed T-test is used to know at which direction is the difference. Here the hypothesis are:\n",
    "\n",
    "- $H_0$: % Correct answer (Scatterplot) $\\geq$ % Correct answer (Heatmap)\n",
    "- $H_a$: % Correct answer (Scatterplot) < % Correct answer (Heatmap)\n"
   ]
  },
  {
   "cell_type": "code",
   "execution_count": 8,
   "id": "f34ad8a3",
   "metadata": {},
   "outputs": [
    {
     "name": "stdout",
     "output_type": "stream",
     "text": [
      "There is no sufficient evidence to reject the null hypothesis.\n"
     ]
    }
   ],
   "source": [
    "# Para una cola a la derecha\n",
    "if t_stat_avg > 0 and p_value_avg / 2 < 0.05:\n",
    "    print(\"Null hypothesis rejected: There is a significant difference and the Average Correct Answer Percentage of heatmap visualisation is greater than the Average Correct Answer Percentage of scatterplot visualisation\")\n",
    "else:\n",
    "    print(\"There is no sufficient evidence to reject the null hypothesis.\")"
   ]
  },
  {
   "cell_type": "markdown",
   "id": "c768afa0",
   "metadata": {},
   "source": [
    "# T-test (two tailed): Average Answer Time\n",
    "\n",
    "Two tailed T-test is the one used where the hypothesis are:\n",
    "\n",
    "- $H_0$: There is no significant difference between the average time taken to answer the questions of the two groups: heatmap visualisation and scatterplot visualisation.\n",
    "- $H_a$: There is a significant difference between the average time taken to answer the questions of the two groups: heatmap visualisation and scatterplot visualisation.\n",
    "    \n",
    "If the alternative hypothesis is accepted, there is no way to figure it out at which direction is the difference. "
   ]
  },
  {
   "cell_type": "code",
   "execution_count": 9,
   "id": "1d10c900",
   "metadata": {},
   "outputs": [
    {
     "name": "stdout",
     "output_type": "stream",
     "text": [
      "T-statistic: 3.76942270361732\n",
      "P-value: 0.004420385667323381\n",
      "Null hypothesis rejected: There is a significant difference between the Average Answer Time of heatmap and scatterplot visualisation questions.\n"
     ]
    }
   ],
   "source": [
    "# Perform the paired samples t-test\n",
    "t_stat_time, p_value_time = stats.ttest_rel(df2['total_time_SP'],df2['total_time_HM'])\n",
    "\n",
    "# Print the results\n",
    "print(f\"T-statistic: {t_stat_time}\")\n",
    "print(f\"P-value: {p_value_time}\")\n",
    "\n",
    "# Interpretation\n",
    "alpha = 0.05  # significance level\n",
    "if p_value_time < alpha:\n",
    "    print(\"Null hypothesis rejected: There is a significant difference between the Average Answer Time of heatmap and scatterplot visualisation questions.\")\n",
    "else:\n",
    "    print(\"Null hypothesis accepted: There is no significant difference between the Average Answer Time of heatmap and scatterplot visualisation questions.\")"
   ]
  },
  {
   "cell_type": "markdown",
   "id": "5dc49fa9",
   "metadata": {},
   "source": [
    "# T-test (one-tailed): Average Answer Time\n",
    "\n",
    "One tailed T-test is used to know at which direction is the difference. Here the hypothesis are:\n",
    "\n",
    "- $H_0$: Average Answer Time (Heatmap) $\\geq$ % Average Answer Time (Scatterplot)\n",
    "- $H_a$: Average Answer Time (Heatmap) < % Correct answer (Scatterplot)\n"
   ]
  },
  {
   "cell_type": "code",
   "execution_count": 10,
   "id": "ee31123a",
   "metadata": {},
   "outputs": [
    {
     "name": "stdout",
     "output_type": "stream",
     "text": [
      "Null hypothesis rejected: There is a significant difference and the Average Answer Time of Scatterplot visualisation is greater than the Average Answer Time of heatmap visualisation\n"
     ]
    }
   ],
   "source": [
    "# Para una cola a la derecha\n",
    "if t_stat_time > 0 and p_value_time / 2 < 0.05:\n",
    "    print(\"Null hypothesis rejected: There is a significant difference and the Average Answer Time of Scatterplot visualisation is greater than the Average Answer Time of heatmap visualisation\")\n",
    "else:\n",
    "    print(\"There is no sufficient evidence to reject the null hypothesis.\")"
   ]
  },
  {
   "cell_type": "markdown",
   "id": "801086bb",
   "metadata": {},
   "source": [
    "Si el valor p es menor que α (p < α): Rechazamos la hipótesis nula. Esto significa que tenemos suficiente evidencia para concluir que hay una diferencia significativa entre las dos muestras.\n",
    "\n",
    "Si el valor p es mayor que α (p > α): No rechazamos la hipótesis nula. No tenemos suficiente evidencia para concluir que hay una diferencia significativa. En otras palabras, aceptamos la hipótesis nula (aunque en un sentido técnico, se dice que \"no rechazamos\" la hipótesis nula, ya que \"aceptar\" la hipótesis nula de forma explícita puede ser problemático, ya que implica una certeza que no tenemos)."
   ]
  },
  {
   "cell_type": "markdown",
   "id": "f94bffe3",
   "metadata": {},
   "source": [
    "# 95 % Confidence Interval for Average Correct Answer Percentage"
   ]
  },
  {
   "cell_type": "code",
   "execution_count": 11,
   "id": "eb8646b2",
   "metadata": {},
   "outputs": [
    {
     "name": "stdout",
     "output_type": "stream",
     "text": [
      "95% Confidence Interval for Average Correct Answer Percentage of Heatmap visualisation: (91.0, 101.0)\n",
      "95% Confidence Interval for Average Correct Answer Percentage of Scatterplot visualisation: (84.16, 95.84)\n"
     ]
    }
   ],
   "source": [
    "n = len(df2)\n",
    "t_critical = stats.t.ppf(1 - alpha/2, df=n - 1) \n",
    "\n",
    "# Calculate the standard error of the mean for both groups\n",
    "se_heatmap = df2['%correct_HM'].std() / np.sqrt(n)\n",
    "se_scatterplot = df2['%correct_SP'].std()/ np.sqrt(n)\n",
    "\n",
    "# Calculate the confidence intervals\n",
    "ci_lower_HM = round(df2['%correct_HM'].mean() - t_critical * se_heatmap,2)\n",
    "ci_upper_HM = round(df2['%correct_HM'].mean() + t_critical * se_heatmap,2)\n",
    "\n",
    "ci_lower_SP = round(df2['%correct_SP'].mean() - t_critical * se_scatterplot,2)\n",
    "ci_upper_SP = round(df2['%correct_SP'].mean() + t_critical * se_scatterplot,2)\n",
    "\n",
    "# Print the confidence intervals\n",
    "print(f\"95% Confidence Interval for Average Correct Answer Percentage of Heatmap visualisation: ({ci_lower_HM}, {ci_upper_HM})\")\n",
    "print(f\"95% Confidence Interval for Average Correct Answer Percentage of Scatterplot visualisation: ({ci_lower_SP}, {ci_upper_SP})\")"
   ]
  },
  {
   "cell_type": "markdown",
   "id": "bfc1f69f",
   "metadata": {},
   "source": [
    "# 95 % Confidence Interval for Average Answer Time"
   ]
  },
  {
   "cell_type": "code",
   "execution_count": 12,
   "id": "6f8cde26",
   "metadata": {},
   "outputs": [
    {
     "name": "stdout",
     "output_type": "stream",
     "text": [
      "95% Confidence Interval for Average Answer Time of Heatmap visualisation: (100.89, 151.73)\n",
      "95% Confidence Interval for Average Answer Time of Scatterplot visualisation: (139.86, 270.54)\n"
     ]
    }
   ],
   "source": [
    "# Calculate the standard error of the mean for both groups\n",
    "se_heatmap = df2['total_time_HM'].std() / np.sqrt(n)\n",
    "se_scatterplot = df2['total_time_SP'].std()/ np.sqrt(n)\n",
    "\n",
    "# Calculate the confidence intervals\n",
    "ci_lower_t_HM = round(df2['total_time_HM'].mean() - t_critical * se_heatmap,2)\n",
    "ci_upper_t_HM = round(df2['total_time_HM'].mean() + t_critical * se_heatmap,2)\n",
    "\n",
    "ci_lower_t_SP = round(df2['total_time_SP'].mean() - t_critical * se_scatterplot,2)\n",
    "ci_upper_t_SP = round(df2['total_time_SP'].mean() + t_critical * se_scatterplot,2)\n",
    "\n",
    "# Print the confidence intervals\n",
    "print(f\"95% Confidence Interval for Average Answer Time of Heatmap visualisation: ({ci_lower_t_HM}, {ci_upper_t_HM})\")\n",
    "print(f\"95% Confidence Interval for Average Answer Time of Scatterplot visualisation: ({ci_lower_t_SP}, {ci_upper_t_SP})\")"
   ]
  },
  {
   "cell_type": "markdown",
   "id": "0be67479",
   "metadata": {},
   "source": [
    "# Final results "
   ]
  },
  {
   "cell_type": "code",
   "execution_count": 13,
   "id": "b37deda6",
   "metadata": {},
   "outputs": [
    {
     "data": {
      "image/png": "[encoded data removed]",
      "text/plain": [
       "<Figure size 700x500 with 1 Axes>"
      ]
     },
     "metadata": {},
     "output_type": "display_data"
    }
   ],
   "source": [
    "fig, ax = plt.subplots(figsize=(7, 5))\n",
    "\n",
    "bar_width = 0.3 \n",
    "\n",
    "total_width = 0.40  \n",
    "gap = (1 - total_width) / 2  \n",
    "\n",
    "positions = [gap, gap + bar_width]  \n",
    "\n",
    "ax.bar(positions, \n",
    "       [df2['%correct_HM'].mean(), df2['%correct_SP'].mean()],\n",
    "       color=['white', 'lightgray'], edgecolor='black', width=bar_width)\n",
    "\n",
    "ax.errorbar(positions[0], df2['%correct_HM'].mean(), \n",
    "            yerr=[[df2['%correct_HM'].mean()-ci_lower_HM], [ci_upper_HM-df2['%correct_HM'].mean()]], \n",
    "            fmt='o', color='black', capsize=5, label='CI (Heatmap)')\n",
    "\n",
    "ax.errorbar(positions[1], df2['%correct_SP'].mean(), \n",
    "            yerr=[[df2['%correct_SP'].mean()-ci_lower_SP], [ci_upper_SP-df2['%correct_SP'].mean()]], \n",
    "            fmt='o', color='black', capsize=5, label='CI (Scatterplot)')\n",
    "\n",
    "ax.set_title('Average Correct Answer Percentage by Visualisation Type', fontsize=14)\n",
    "ax.set_xlabel('Visualisation Type', fontsize=12)\n",
    "ax.set_ylabel('Average Correct Answer Percentage', fontsize=12)\n",
    "\n",
    "ax.set_xticks([gap + bar_width/30, gap + bar_width]) \n",
    "ax.set_xticklabels(['Heatmap', 'Scatterplot'])\n",
    "\n",
    "ax.set_xlim([-0.1, 1]) \n",
    "plt.tight_layout()\n",
    "plt.show()"
   ]
  },
  {
   "cell_type": "code",
   "execution_count": 14,
   "id": "e56737dd",
   "metadata": {},
   "outputs": [
    {
     "data": {
      "image/png": "[encoded data removed]",
      "text/plain": [
       "<Figure size 700x500 with 1 Axes>"
      ]
     },
     "metadata": {},
     "output_type": "display_data"
    }
   ],
   "source": [
    "fig, ax = plt.subplots(figsize=(7, 5))\n",
    "\n",
    "bar_width = 0.3 \n",
    "\n",
    "total_width = 0.40  \n",
    "gap = (1 - total_width) / 2  \n",
    "\n",
    "positions = [gap, gap + bar_width]  \n",
    "\n",
    "ax.bar(positions, \n",
    "       [df2['total_time_HM'].mean(), df2['total_time_SP'].mean()],\n",
    "       color=['white', 'lightgray'], edgecolor='black', width=bar_width)\n",
    "\n",
    "ax.errorbar(positions[0], df2['total_time_HM'].mean(), \n",
    "            yerr=[[df2['total_time_HM'].mean()-ci_lower_t_HM], [ci_upper_t_HM-df2['total_time_HM'].mean()]], \n",
    "            fmt='o', color='black', capsize=5, label='CI (Heatmap)')\n",
    "\n",
    "ax.errorbar(positions[1], df2['total_time_SP'].mean(), \n",
    "            yerr=[[df2['total_time_SP'].mean()-ci_lower_t_SP], [ci_upper_t_SP-df2['total_time_SP'].mean()]], \n",
    "            fmt='o', color='black', capsize=5, label='CI (Scatterplot)')\n",
    "\n",
    "ax.set_title('Average Answer Time (s) by Visualisation Type', fontsize=14)\n",
    "ax.set_xlabel('Visualisation Type', fontsize=12)\n",
    "ax.set_ylabel('Average Answer Time (s)', fontsize=12)\n",
    "\n",
    "ax.set_xticks([gap + bar_width/30, gap + bar_width]) \n",
    "ax.set_xticklabels(['Heatmap', 'Scatterplot'])\n",
    "\n",
    "ax.set_xlim([-0.1, 1]) \n",
    "\n",
    "plt.tight_layout()\n",
    "plt.show()"
   ]
  }
 ],
 "metadata": {
  "kernelspec": {
   "display_name": "Python 3 (ipykernel)",
   "language": "python",
   "name": "python3"
  },
  "language_info": {
   "codemirror_mode": {
    "name": "ipython",
    "version": 3
   },
   "file_extension": ".py",
   "mimetype": "text/x-python",
   "name": "python",
   "nbconvert_exporter": "python",
   "pygments_lexer": "ipython3",
   "version": "3.11.5"
  }
 },
 "nbformat": 4,
 "nbformat_minor": 5
}
